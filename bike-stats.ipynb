{
 "metadata": {
  "language_info": {
   "codemirror_mode": {
    "name": "ipython",
    "version": 3
   },
   "file_extension": ".py",
   "mimetype": "text/x-python",
   "name": "python",
   "nbconvert_exporter": "python",
   "pygments_lexer": "ipython3",
   "version": "3.9.0-final"
  },
  "orig_nbformat": 2,
  "kernelspec": {
   "name": "python3",
   "display_name": "Python 3",
   "language": "python"
  }
 },
 "nbformat": 4,
 "nbformat_minor": 2,
 "cells": [
  {
   "source": [
    "# Data Analysis with Pandas\n",
    "## Cycle Share Data\n",
    "### Logan Jones | Jan 19, 2021"
   ],
   "cell_type": "markdown",
   "metadata": {}
  },
  {
   "cell_type": "code",
   "execution_count": 1,
   "metadata": {},
   "outputs": [],
   "source": [
    "import pandas as pd"
   ]
  },
  {
   "cell_type": "code",
   "execution_count": 2,
   "metadata": {},
   "outputs": [
    {
     "output_type": "stream",
     "name": "stderr",
     "text": [
      "b'Skipping line 50794: expected 12 fields, saw 20\\n'\n"
     ]
    }
   ],
   "source": [
    "df_station = pd.read_csv('station.csv')\n",
    "df_weather = pd.read_csv('weather.csv', parse_dates = [\"Date\"])\n",
    "df_trip = pd.read_csv('trip.csv', error_bad_lines=False)"
   ]
  },
  {
   "source": [
    "### 1. What is the average trip duration for a borrowed bicycle?\n"
   ],
   "cell_type": "markdown",
   "metadata": {}
  },
  {
   "cell_type": "code",
   "execution_count": 3,
   "metadata": {},
   "outputs": [
    {
     "output_type": "execute_result",
     "data": {
      "text/plain": [
       "1178.2956753399776"
      ]
     },
     "metadata": {},
     "execution_count": 3
    }
   ],
   "source": [
    "average_trip = df_trip[\"tripduration\"].mean()\n",
    "average_trip"
   ]
  },
  {
   "source": [
    "### 2. What’s the most common age of a bicycle-sharer?"
   ],
   "cell_type": "markdown",
   "metadata": {}
  },
  {
   "cell_type": "code",
   "execution_count": 4,
   "metadata": {},
   "outputs": [
    {
     "output_type": "execute_result",
     "data": {
      "text/plain": [
       "34.0"
      ]
     },
     "metadata": {},
     "execution_count": 4
    }
   ],
   "source": [
    "most_common_age = 2021 - df_trip[\"birthyear\"].mode().item()\n",
    "most_common_age"
   ]
  },
  {
   "source": [
    "### 3. Given all the weather data here, find the average precipitation per month, and the median precipitation."
   ],
   "cell_type": "markdown",
   "metadata": {}
  },
  {
   "cell_type": "code",
   "execution_count": 5,
   "metadata": {},
   "outputs": [
    {
     "output_type": "stream",
     "name": "stdout",
     "text": [
      "0.1039669873608753\n0.01\n"
     ]
    }
   ],
   "source": [
    "df = df_weather[[\"Date\", \"Precipitation_In\"]]\n",
    "df.set_index(\"Date\", inplace=True)\n",
    "avg_precip_month = df.groupby(df.index.month).mean().mean().item()\n",
    "median_precip_month = df.groupby(df.index.month).median().median().item()\n",
    "\n",
    "print(avg_precip_month)\n",
    "print(median_precip_month)"
   ]
  },
  {
   "source": [
    "### 4. What’s the average number of bikes at a given bike station?"
   ],
   "cell_type": "markdown",
   "metadata": {}
  },
  {
   "cell_type": "code",
   "execution_count": 6,
   "metadata": {},
   "outputs": [
    {
     "output_type": "execute_result",
     "data": {
      "text/plain": [
       "16.517241379310345"
      ]
     },
     "metadata": {},
     "execution_count": 6
    }
   ],
   "source": [
    "avg_bikes = df_station[\"current_dockcount\"].mean()\n",
    "avg_bikes "
   ]
  },
  {
   "source": [
    "### 5. When a bike station is modified, is it more likely that it’ll lose bikes or gain bikes? How do you know?"
   ],
   "cell_type": "markdown",
   "metadata": {}
  },
  {
   "cell_type": "code",
   "execution_count": 7,
   "metadata": {},
   "outputs": [
    {
     "output_type": "execute_result",
     "data": {
      "text/plain": [
       "False"
      ]
     },
     "metadata": {},
     "execution_count": 7
    }
   ],
   "source": [
    "modified_station_bike_avg = df_station[df_station[\"modification_date\"].isnull() != True].install_dockcount.mean()\n",
    "unmodified_station_bike_avg = df_station[df_station[\"modification_date\"].isnull() == True].install_dockcount.mean()\n",
    "modification_gain = modified_station_bike_avg > unmodified_station_bike_avg\n",
    "modification_gain"
   ]
  },
  {
   "source": [
    "### 6. Come up with 3 more questions that can be answered with this data set.\n",
    "#### 6a. What is the average precipitation per day?"
   ],
   "cell_type": "markdown",
   "metadata": {}
  },
  {
   "cell_type": "code",
   "execution_count": 8,
   "metadata": {},
   "outputs": [
    {
     "output_type": "execute_result",
     "data": {
      "text/plain": [
       "0.10506531204644412"
      ]
     },
     "metadata": {},
     "execution_count": 8
    }
   ],
   "source": [
    "df_weather.Precipitation_In.mean()"
   ]
  },
  {
   "source": [
    "#### 6b. How many bike stations have been modified in total?"
   ],
   "cell_type": "markdown",
   "metadata": {}
  },
  {
   "cell_type": "code",
   "execution_count": 9,
   "metadata": {},
   "outputs": [
    {
     "output_type": "execute_result",
     "data": {
      "text/plain": [
       "17"
      ]
     },
     "metadata": {},
     "execution_count": 9
    }
   ],
   "source": [
    "df_station[df_station[\"modification_date\"].isnull() != True].station_id.count()"
   ]
  },
  {
   "source": [
    "#### 6c. Which is the most often used bike?"
   ],
   "cell_type": "markdown",
   "metadata": {}
  },
  {
   "cell_type": "code",
   "execution_count": 10,
   "metadata": {},
   "outputs": [
    {
     "output_type": "execute_result",
     "data": {
      "text/plain": [
       "'SEA00281'"
      ]
     },
     "metadata": {},
     "execution_count": 10
    }
   ],
   "source": [
    "df_trip.bikeid.value_counts().index[0]"
   ]
  },
  {
   "source": [
    "## Tests"
   ],
   "cell_type": "markdown",
   "metadata": {}
  },
  {
   "cell_type": "code",
   "execution_count": 11,
   "metadata": {},
   "outputs": [
    {
     "output_type": "stream",
     "name": "stdout",
     "text": [
      "Success!!!\n"
     ]
    }
   ],
   "source": [
    "def test():\n",
    "\n",
    "    def assert_equal(actual,expected):\n",
    "        assert actual == expected, f\"Expected {expected} but got {actual}\"\n",
    "\n",
    "    assert_equal(average_trip, 1178.2956753399776)\n",
    "    assert_equal(most_common_age, 34)\n",
    "    assert_equal(avg_precip_month, 0.1039669873608753)\n",
    "    assert_equal(median_precip_month, 0.01)\n",
    "    assert_equal(avg_bikes, 16.517241379310345)\n",
    "    assert_equal(modification_gain, False)\n",
    "\n",
    "\n",
    "\n",
    "    print(\"Success!!!\")\n",
    "\n",
    "test()"
   ]
  },
  {
   "cell_type": "code",
   "execution_count": null,
   "metadata": {},
   "outputs": [],
   "source": []
  }
 ]
}